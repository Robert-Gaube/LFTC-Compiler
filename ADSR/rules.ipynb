{
 "cells": [
  {
   "cell_type": "markdown",
   "metadata": {},
   "source": [
    "## How to do it  \n",
    "$$ A: A\\alpha _1 \\vert \\cdots \\vert A \\alpha _m \\vert \\beta _1 \\vert \\cdots \\vert \\beta _n $$\n",
    "This is broken into  \n",
    "$$\n",
    "    A: \\beta _1 A^` \\vert \\cdots \\vert \\beta _n A^` \\\\\n",
    "    A^`: \\alpha _1 A^` \\vert \\cdots \\vert \\alpha _m A^` \\vert \\epsilon\n",
    "$$"
   ]
  },
  {
   "cell_type": "markdown",
   "metadata": {},
   "source": [
    "### ExprOr  \n",
    "\n",
    "**exprOr**: **exprOr** OR **exprAnd** | **exprAnd**\n",
    "___  \n",
    "$ A $ = exprOr  \n",
    "$ A^` $ = exprOrPrim  \n",
    "$ \\alpha _1 $ = OR exprAnd  \n",
    "$ \\beta _1 $ = exprAnd  \n",
    "___\n",
    "**exprOr**: **exprAnd** **exprOrPrim**  \n",
    "**exprOrPrim**: OR **exprAnd** **exprOrPrim** | $ \\epsilon $"
   ]
  },
  {
   "cell_type": "markdown",
   "metadata": {},
   "source": [
    "### ExprAnd  \n",
    "**exprAnd**: **exprAnd** AND **exprEq** | **exprEq**\n",
    "___  \n",
    "$ A $ = exprAnd  \n",
    "$ A^` $ = exprAndPrim  \n",
    "$ \\alpha _1 $ = AND exprEq  \n",
    "$ \\beta _1 $ = exprEq  \n",
    "___\n",
    "**exprAnd**: **exprEq** **exprAndPrim**  \n",
    "**exprAndPrim**: AND **exprEq** **exprAndPrim** | $ \\epsilon $\n"
   ]
  },
  {
   "cell_type": "markdown",
   "metadata": {},
   "source": [
    "### ExprEq  \n",
    "**exprEq**: **exprEq** ( EQUAL | NOTEQ ) **exprRel** | **exprRel**\n",
    "___  \n",
    "$ A $ = exprEq  \n",
    "$ A^` $ = exprEqPrim  \n",
    "$ \\alpha _1 $ = ( EQUAL | NOTEQ ) exprRel  \n",
    "$ \\beta _1 $ = exprRel  \n",
    "___\n",
    "**exprEq**: **exprRel** **exprEqPrim**  \n",
    "**exprEqPrim**: ( EQUAL | NOTEQ ) **exprRel** **exprEqPrim** | $ \\epsilon $\n"
   ]
  },
  {
   "cell_type": "markdown",
   "metadata": {},
   "source": [
    "### ExprRel  \n",
    "**exprRel**: **exprRel** ( LESS | LESSEQ | GREATER | GREATEREQ ) **exprAdd** | **exprAdd**\n",
    "___  \n",
    "$ A $ = exprRel  \n",
    "$ A^` $ = exprRelPrim  \n",
    "$ \\alpha _1 $ = ( LESS | LESSEQ | GREATER | GREATEREQ ) exprAdd  \n",
    "$ \\beta _1 $ = exprAdd  \n",
    "___\n",
    "**exprRel**: **exprAdd** **exprRelPrim**  \n",
    "**exprRelPrim**: ( LESS | LESSEQ | GREATER | GREATEREQ ) **exprAdd** **exprRelPrim** | $ \\epsilon $\n"
   ]
  },
  {
   "cell_type": "markdown",
   "metadata": {},
   "source": [
    "### ExprAdd  \n",
    "**exprAdd**: **exprAdd** ( ADD | SUB ) **exprMul** | **exprMul**\n",
    "___  \n",
    "$ A $ = exprAdd  \n",
    "$ A^` $ = exprAddPrim  \n",
    "$ \\alpha _1 $ = ( ADD | SUB ) exprMul  \n",
    "$ \\beta _1 $ = exprMul  \n",
    "___\n",
    "**exprAdd**: **exprMul** **exprAddPrim**  \n",
    "**exprAddPrim**: ( ADD | SUB ) **exprMul** **exprAddPrim** | $ \\epsilon $\n"
   ]
  },
  {
   "cell_type": "markdown",
   "metadata": {},
   "source": [
    "### ExprMul  \n",
    "**exprMul**: **exprMul** ( MUL | DIV ) **exprCast** | **exprCast**\n",
    "___  \n",
    "$ A $ = exprMul  \n",
    "$ A^` $ = exprMulPrim  \n",
    "$ \\alpha _1 $ = ( MUL | DIV ) exprCast  \n",
    "$ \\beta _1 $ = exprCast  \n",
    "___\n",
    "**exprMul**: **exprCast** **exprMulPrim**  \n",
    "**exprMulPrim**: ( MUL | DIV ) **exprCast** **exprMulPrim** | $ \\epsilon $\n"
   ]
  },
  {
   "cell_type": "markdown",
   "metadata": {},
   "source": [
    "### ExprPostfix  \n",
    "**exprPostfix**: **exprPostfix** LBRACKET **expr** RBRACKET | **exprPostfix** DOT ID | **exprPrimary**\n",
    "___  \n",
    "$ A $ = exprPostfix  \n",
    "$ A^` $ = exprPostfixPrim  \n",
    "$ \\alpha _1 $ = LBRACKET **expr** RBRACKET  \n",
    "$ \\alpha _2 $ = DOT ID  \n",
    "$ \\beta _1 $ = exprPrimary  \n",
    "___\n",
    "**exprPostfix**: **exprPrimary** **exprPostfixPrim**  \n",
    "**exprPostfixPrim**: LBRACKET **expr** RBRACKET **exprPostfixPrim** | DOT ID **exprPostfixPrim** | $ \\epsilon $\n"
   ]
  }
 ],
 "metadata": {
  "language_info": {
   "name": "python"
  }
 },
 "nbformat": 4,
 "nbformat_minor": 2
}
